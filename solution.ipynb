{
 "cells": [
  {
   "cell_type": "markdown",
   "metadata": {},
   "source": [
    "# Machine Problem: Discrete Random Variables (Solution)"
   ]
  },
  {
   "cell_type": "code",
   "execution_count": null,
   "metadata": {},
   "outputs": [],
   "source": [
    "import numpy as np\n",
    "from numpy.random import binomial\n",
    "import pandas as pd\n",
    "import matplotlib.pyplot as plt"
   ]
  },
  {
   "cell_type": "code",
   "execution_count": null,
   "metadata": {},
   "outputs": [],
   "source": [
    "from scipy.stats import binom\n",
    "n = 8\n",
    "p = 0.5\n",
    "q = 0.5\n",
    "\n",
    "jpmf = np.zeros([n+1, n+1])\n",
    "for idx in range(0, n+1):\n",
    "    for idy in range(0,idx+1):\n",
    "        jpmf[idx, idy] = binom.pmf(idx,n,p) * binom.pmf(idy,idx,q)\n",
    "\n",
    "pmf_X = np.sum(jpmf, axis=1)\n",
    "pmf_Y = np.sum(jpmf, axis=0)\n",
    "pmf_conv = np.convolve(pmf_X, pmf_Y)\n",
    "\n",
    "pmf = np.zeros([2*n+1])\n",
    "for idu in range(0,2*n+1):\n",
    "    print('IDU ' + str(idu), end=': ')\n",
    "    for idx in range(0,min(idu+1,n+1)):\n",
    "        if (idu-idx) < n+1:\n",
    "            print('(' + str(idx) + ',', end=' ')\n",
    "            print(str(idu-idx) + ')', end=' ')\n",
    "            pmf[idu] = pmf[idu] + jpmf[idx,idu-idx]\n",
    "    print('\\r')"
   ]
  },
  {
   "cell_type": "code",
   "execution_count": null,
   "metadata": {},
   "outputs": [],
   "source": [
    "ejpmf_df = pd.read_csv('ejpmf.csv', index_col=0)\n",
    "epmf_df = pd.read_csv('epmf.csv', index_col=0)\n",
    "epmf_conv = pd.read_csv('epmf_conv.csv', index_col=0)\n",
    "\n",
    "ejpmf = ejpmf_df.to_numpy()\n",
    "epmf = epmf_df['0'].to_numpy()\n",
    "epmf_conv = epmf_conv['0'].to_numpy()"
   ]
  },
  {
   "cell_type": "code",
   "execution_count": null,
   "metadata": {},
   "outputs": [],
   "source": [
    "from sklearn.metrics import mean_squared_error\n",
    "print('Mean squared error (ejpmf): ' + str(mean_squared_error(ejpmf,jpmf)))\n",
    "print('Mean squared error (epmf): ' + str(mean_squared_error(epmf,pmf)))\n",
    "print('Mean squared error (epmf_conv): ' + str(mean_squared_error(epmf_conv,pmf_conv)))"
   ]
  }
 ],
 "metadata": {
  "kernelspec": {
   "display_name": "Python 3",
   "language": "python",
   "name": "python3"
  },
  "language_info": {
   "codemirror_mode": {
    "name": "ipython",
    "version": 3
   },
   "file_extension": ".py",
   "mimetype": "text/x-python",
   "name": "python",
   "nbconvert_exporter": "python",
   "pygments_lexer": "ipython3",
   "version": "3.7.9"
  }
 },
 "nbformat": 4,
 "nbformat_minor": 2
}
