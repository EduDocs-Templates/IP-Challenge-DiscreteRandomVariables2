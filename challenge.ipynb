{
 "cells": [
  {
   "cell_type": "markdown",
   "metadata": {},
   "source": [
    "# Machine Problem: Discrete Random Variables\n",
    "\n",
    "This [Python](https://www.python.org) challenge uses [numpy](https://numpy.org/) and its `random` module to generate samples drawn from probability mass functions."
   ]
  },
  {
   "cell_type": "code",
   "execution_count": null,
   "metadata": {},
   "outputs": [],
   "source": [
    "import numpy as np\n",
    "from numpy.random import binomial\n",
    "import pandas as pd\n",
    "import matplotlib.pyplot as plt"
   ]
  },
  {
   "cell_type": "markdown",
   "metadata": {},
   "source": [
    "## Binomial Random Variables\n",
    "\n",
    "We can create a method that generates a sequence of Bernoulli random variables using `binomial` from `numpy.random`."
   ]
  },
  {
   "cell_type": "code",
   "execution_count": null,
   "metadata": {},
   "outputs": [],
   "source": [
    "def myBernoulli(p=0.5, seq_length=1):\n",
    "    # Return random Bernoulli sample with probability p\n",
    "    #\n",
    "    return binomial(1, p, seq_length)"
   ]
  },
  {
   "cell_type": "markdown",
   "metadata": {},
   "source": [
    "A binomial random variable with parameter `n` and `p` can be created by summing exactly `n` Bernoulli random variable, each with parameter `p`."
   ]
  },
  {
   "cell_type": "code",
   "execution_count": null,
   "metadata": {},
   "outputs": [],
   "source": [
    "def myBinomial(n=1, p=0.5):\n",
    "    \"\"\"\n",
    "    This method returns a realization of a binomial random variable with parameters n and p.\n",
    "    The default parameters are n=1 and p=0.5.\n",
    "    \"\"\"\n",
    "    count = 0\n",
    "    for idx in range(0,n):\n",
    "        count += myBernoulli(p)\n",
    "    return count.item()"
   ]
  },
  {
   "cell_type": "markdown",
   "metadata": {},
   "source": [
    "Using a large number of samples and empirical averaging, plot the empirical probability mass function (PMF) for `myBinomial` with parameter `n=16` and `p=0.25`."
   ]
  },
  {
   "cell_type": "code",
   "execution_count": null,
   "metadata": {},
   "outputs": [],
   "source": [
    "seq_length = 10000\n",
    "n = 16\n",
    "p = 0.25\n",
    "\n",
    "sequence = []\n",
    "for idx in range(seq_length):\n",
    "    sequence.append(myBinomial(n,p))\n",
    "\n",
    "epmf = np.bincount(sequence) / seq_length\n",
    "\n",
    "bins = list(range(len(epmf)))\n",
    "plt.bar(bins, epmf)\n",
    "plt.show"
   ]
  },
  {
   "cell_type": "markdown",
   "metadata": {},
   "source": [
    "Compare this empirical PMF with that of a standard Binomial PMF for the same parameters."
   ]
  },
  {
   "cell_type": "code",
   "execution_count": null,
   "metadata": {},
   "outputs": [],
   "source": [
    "from scipy.stats import binom\n",
    "fig, ax = plt.subplots(1, 1)\n",
    "\n",
    "x = np.arange(binom.ppf(0.0001, n, p), binom.ppf(0.9999, n, p))\n",
    "plt.bar(x, binom.pmf(x, n, p))\n",
    "plt.show"
   ]
  },
  {
   "cell_type": "markdown",
   "metadata": {},
   "source": [
    "## Binomial Random Variables with Random Parameters\n",
    "\n",
    "Create a method `myTwoBinomials` that generates realizations for two random variables `X` and `Y`.\n",
    "The first random variable `X` has a binomial distribution with parameters `n` and `p`.\n",
    "The second random variable `Y` depends on the value of `X`; if has a binomial distribution with parameters `X` and `q`."
   ]
  },
  {
   "cell_type": "code",
   "execution_count": null,
   "metadata": {},
   "outputs": [],
   "source": [
    "def myTwoBinomials(n=1, p=0.5, q=0.5):\n",
    "    \"\"\"\n",
    "    This method returns a realization X of a binomial random variable with parameters n and p.\n",
    "    It also returns a realization Y of a binomial random variable with parameters X and q.\n",
    "    The default parameters are n=1, p=0.5, and q=0.5.\n",
    "    \"\"\"\n",
    "    X = binomial(n, p, 1).item()\n",
    "    if X > 0:\n",
    "        Y = binomial(X, q, 1).item()\n",
    "    else:\n",
    "        Y = 0\n",
    "    return X, Y"
   ]
  },
  {
   "cell_type": "markdown",
   "metadata": {},
   "source": [
    "Using a large number of samples and empirical averaging, compute the empirical joint probability mass function (PMF) of `X` and `Y` using `myTwoBinomials` with parameter `n=8`, `p = 0.5` and `q=0.5`."
   ]
  },
  {
   "cell_type": "code",
   "execution_count": null,
   "metadata": {},
   "outputs": [],
   "source": [
    "seq_length = 10000\n",
    "n = 8\n",
    "p = 0.5\n",
    "q = 0.5\n",
    "\n",
    "ejpmf = np.zeros([n+1, n+1])\n",
    "epmf = np.zeros([2*n+1])\n",
    "\n",
    "sequence = []\n",
    "for idx in range(seq_length):\n",
    "    X, Y = myTwoBinomials(n,p,q)\n",
    "    ejpmf[X, Y] = ejpmf[X, Y] + 1\n",
    "    \n",
    "    U = X + Y\n",
    "    epmf[U] = epmf[U] + 1.0\n",
    "\n",
    "ejpmf = ejpmf / seq_length\n",
    "epmf = epmf / seq_length"
   ]
  },
  {
   "cell_type": "markdown",
   "metadata": {},
   "source": [
    "## Marginal Probability Mass Functions\n",
    "\n",
    "We can compute the empirical marginal probability mass functions for `X` and `Y` from their empirical joint probability mass function."
   ]
  },
  {
   "cell_type": "code",
   "execution_count": null,
   "metadata": {},
   "outputs": [],
   "source": [
    "epmf_X = np.sum(ejpmf, axis=1)\n",
    "epmf_Y = np.sum(ejpmf, axis=0)\n",
    "\n",
    "print(epmf_X)\n",
    "print(epmf_Y)"
   ]
  },
  {
   "cell_type": "markdown",
   "metadata": {},
   "source": [
    "Write a method that computes the average value of a random variable based on its probability mass function.\n",
    "Compute the average values for random variables `X`, `Y`, and `U` based on their empirical marginal probability mass functions."
   ]
  },
  {
   "cell_type": "code",
   "execution_count": null,
   "metadata": {},
   "outputs": [],
   "source": [
    "def myExpectedValue(pmf):\n",
    "    #\n",
    "    # EDIT\n",
    "    #\n",
    "    return 0\n",
    "\n",
    "average_X = myExpectedValue(epmf_X)\n",
    "average_Y = myExpectedValue(epmf_Y)\n",
    "average_U = myExpectedValue(epmf)\n",
    "print([average_X, average_Y, average_U])"
   ]
  },
  {
   "cell_type": "markdown",
   "metadata": {},
   "source": [
    "Can you infer a relation between the averages for `X` and `Y`, and the average value for `U` from these numbers?  \n",
    "ANSWER:\n",
    "\n",
    "\n",
    "Does this mean that `X` and `Y` are independent?  \n",
    "ANSWER:"
   ]
  },
  {
   "cell_type": "markdown",
   "metadata": {},
   "source": [
    "## Convolution\n",
    "\n",
    "We can compute the convolution of `epmf_X` and `epmf_Y`.\n",
    "This yields a probability distribution `empf_conv`.\n",
    "Compute the average value for this distribution using `myExpectedValue` and compare it to the average value of `U`."
   ]
  },
  {
   "cell_type": "code",
   "execution_count": null,
   "metadata": {},
   "outputs": [],
   "source": [
    "epmf_conv = np.convolve(epmf_X, epmf_Y)\n",
    "\n",
    "average_conv = myExpectedValue(epmf_conv)\n",
    "print([average_conv, average_U])"
   ]
  },
  {
   "cell_type": "markdown",
   "metadata": {},
   "source": [
    "Can you infer a relation between the average for `U` and the expected value associated with `empf_conf` from these numbers?  \n",
    "ANSWER:\n",
    "\n",
    "Are `empf_U` and `empf_conv` two copies of a same empirical probability mass function?  \n",
    "ANSWER:"
   ]
  },
  {
   "cell_type": "markdown",
   "metadata": {},
   "source": [
    "## Output Files\n",
    "\n",
    "Turn the arrays `ejpmf`, `epmf`, and `epmf_conv` into CSV files to commit to GitHub."
   ]
  },
  {
   "cell_type": "code",
   "execution_count": null,
   "metadata": {},
   "outputs": [],
   "source": [
    "df_ejpmf = pd.DataFrame(data=ejpmf)\n",
    "df_epmf = pd.DataFrame(data=epmf)\n",
    "df_epmf_conv = pd.DataFrame(data=epmf_conv)\n",
    "\n",
    "df_ejpmf.to_csv(\"ejpmf.csv\")\n",
    "df_epmf.to_csv(\"epmf.csv\")\n",
    "df_epmf_conv.to_csv(\"epmf_conv.csv\")"
   ]
  }
 ],
 "metadata": {
  "kernelspec": {
   "display_name": "Python 3",
   "language": "python",
   "name": "python3"
  },
  "language_info": {
   "codemirror_mode": {
    "name": "ipython",
    "version": 3
   },
   "file_extension": ".py",
   "mimetype": "text/x-python",
   "name": "python",
   "nbconvert_exporter": "python",
   "pygments_lexer": "ipython3",
   "version": "3.7.9"
  }
 },
 "nbformat": 4,
 "nbformat_minor": 2
}
