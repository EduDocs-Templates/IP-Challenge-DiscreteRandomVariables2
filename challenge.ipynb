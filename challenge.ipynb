{
 "cells": [
  {
   "cell_type": "markdown",
   "metadata": {},
   "source": [
    "# Machine Problem: Discrete Random Variables\n",
    "\n",
    "This [Python](https://www.python.org) challenge uses [numpy](https://numpy.org/) and its `random` module to generate samples drawn from probability mass functions."
   ]
  },
  {
   "cell_type": "code",
   "execution_count": null,
   "metadata": {},
   "outputs": [],
   "source": [
    "import numpy as np\n",
    "from numpy.random import randint\n",
    "from numpy.random import binomial\n",
    "from numpy.random import poisson\n",
    "import pandas as pd\n",
    "import matplotlib.pyplot as plt"
   ]
  },
  {
   "cell_type": "markdown",
   "metadata": {},
   "source": [
    "## Binomial Random Variables\n",
    "\n",
    "We can create a method that generates a sequence of Bernoulli random variables using `binomial` from `numpy.random`."
   ]
  },
  {
   "cell_type": "code",
   "execution_count": null,
   "metadata": {},
   "outputs": [],
   "source": [
    "def myBernoulli(p=0.5, seq_length=1):\n",
    "    # Return random Bernoulli sample with probability p\n",
    "    #\n",
    "    return binomial(1, p, seq_length)"
   ]
  },
  {
   "cell_type": "markdown",
   "metadata": {},
   "source": [
    "A binomial random variable with parameter `n` and `p` can be created by summing exactly `n` Bernoulli random variable, each with parameter `p`."
   ]
  },
  {
   "cell_type": "code",
   "execution_count": null,
   "metadata": {},
   "outputs": [],
   "source": [
    "def myBinomial(n=1, p=0.5):\n",
    "    \"\"\"\n",
    "    This method returns a binomial random variable with parameters n and p.\n",
    "    The default parameters are n=1 and p=0.5; this can be changed by passing\n",
    "    arguments to the method.\n",
    "    \"\"\"\n",
    "    count = 0\n",
    "    for idx in range(0,n):\n",
    "        count += myBernoulli(p)\n",
    "    return count.item()"
   ]
  },
  {
   "cell_type": "markdown",
   "metadata": {},
   "source": [
    "Using a large number of samples and empirical averaging, plot the empirical probability mass function (PMF) for `myBinomial` with parameter `n=16` and `p=0.25`."
   ]
  },
  {
   "cell_type": "code",
   "execution_count": null,
   "metadata": {},
   "outputs": [],
   "source": [
    "seq_length = 10000\n",
    "n = 16\n",
    "p = 0.25\n",
    "\n",
    "sequence = []\n",
    "for idx in range(seq_length):\n",
    "    sequence.append(myBinomial(n,p))\n",
    "\n",
    "epmf = np.bincount(sequence) / seq_length\n",
    "\n",
    "bins = list(range(len(epmf)))\n",
    "plt.bar(bins, epmf)\n",
    "plt.show"
   ]
  },
  {
   "cell_type": "markdown",
   "metadata": {},
   "source": [
    "Compare this empirical PMF with that of a standard Binomial PMF for the same parameters."
   ]
  },
  {
   "cell_type": "code",
   "execution_count": null,
   "metadata": {},
   "outputs": [],
   "source": [
    "from scipy.stats import binom\n",
    "fig, ax = plt.subplots(1, 1)\n",
    "\n",
    "x = np.arange(binom.ppf(0.0001, n, p), binom.ppf(0.9999, n, p))\n",
    "plt.bar(x, binom.pmf(x, n, p))\n",
    "plt.show"
   ]
  },
  {
   "cell_type": "markdown",
   "metadata": {},
   "source": [
    "Again, using a large number fo samples and empirical averaging, plot the empirical PMF for the sum of two `myBinomial` random sample, one with parameter `(n,p) = (16,0.25)` and the other with parameter `(n,p) = (8,0.25)`."
   ]
  },
  {
   "cell_type": "code",
   "execution_count": null,
   "metadata": {},
   "outputs": [],
   "source": [
    "seq_length = 10000\n",
    "p = 0.25\n",
    "\n",
    "sequence = []\n",
    "for idx in range(seq_length):\n",
    "    sequence.append(myBinomial(16,p)+myBinomial(8,p))\n",
    "\n",
    "epmf = np.bincount(sequence) / seq_length\n",
    "\n",
    "bins = list(range(len(epmf)))\n",
    "plt.bar(bins, epmf)\n",
    "plt.show"
   ]
  },
  {
   "cell_type": "markdown",
   "metadata": {},
   "source": [
    "Suppose `X` is a binomial random variable with parameters `(m,p)`, and `Y` is a binomial random variable with parameters `(n,p)`.\n",
    "Consider the sum `Z = X + Y`.\n",
    "From the exercise above, can you identify the resulting distribution for `Z` and its parameters?\n",
    "\n",
    "ANSWER:"
   ]
  },
  {
   "cell_type": "markdown",
   "metadata": {},
   "source": [
    "## Poisson Random Variables\n",
    "\n",
    "We can create a method that generates a sequence of Poisson random variables using `poisson` from `numpy.random`."
   ]
  },
  {
   "cell_type": "code",
   "execution_count": null,
   "metadata": {},
   "outputs": [],
   "source": [
    "def myPoisson(lam=10.0, seq_length=1):\n",
    "    # Return random Poisson sample with parameters lam\n",
    "    #\n",
    "    return poisson(lam, seq_length)"
   ]
  },
  {
   "cell_type": "markdown",
   "metadata": {},
   "source": [
    "We can also create a random variable through the following procedure.\n",
    "First, we use the `myPoisson()` method with paramater parameter `lam=10` to generate an integer.\n",
    "Then, we use this integer as the first argument in the `myBinomial()` method, along with `p=0.5` as the second argument.\n",
    "The output of this latter method is the outcome of the experiment."
   ]
  },
  {
   "cell_type": "code",
   "execution_count": null,
   "metadata": {},
   "outputs": [],
   "source": [
    "def myPoissonThinning(lam=10.0, p=0.5):\n",
    "    return myBinom(myPoisson(parameterpoisson3), p)"
   ]
  },
  {
   "cell_type": "markdown",
   "metadata": {},
   "source": [
    "Using a large number of samples and empirical averaging, plot the empirical probability mass function (PMF) for `myPoissonThinning` with parameter `lam=10` and `p=0.5`."
   ]
  },
  {
   "cell_type": "code",
   "execution_count": null,
   "metadata": {},
   "outputs": [],
   "source": [
    "seq_length = 10000\n",
    "\n",
    "#\n",
    "# EDIT\n",
    "#"
   ]
  },
  {
   "cell_type": "markdown",
   "metadata": {},
   "source": [
    "From the exercise above, can you identify the resulting distribution and its parameters?\n",
    "\n",
    "ANSWER:"
   ]
  }
 ],
 "metadata": {
  "kernelspec": {
   "display_name": "Python 3",
   "language": "python",
   "name": "python3"
  },
  "language_info": {
   "codemirror_mode": {
    "name": "ipython",
    "version": 3
   },
   "file_extension": ".py",
   "mimetype": "text/x-python",
   "name": "python",
   "nbconvert_exporter": "python",
   "pygments_lexer": "ipython3",
   "version": "3.7.9"
  }
 },
 "nbformat": 4,
 "nbformat_minor": 2
}
